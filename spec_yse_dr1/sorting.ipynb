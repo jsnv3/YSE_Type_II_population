{
 "cells": [
  {
   "cell_type": "code",
   "execution_count": 1,
   "id": "55db2331-a470-43e4-9cfa-7d8dbef08703",
   "metadata": {},
   "outputs": [
    {
     "name": "stdout",
     "output_type": "stream",
     "text": [
      "117\n",
      "330\n",
      "19\n"
     ]
    }
   ],
   "source": [
    "import os \n",
    "parent_directory = 'C:/Users/JV/RSG_project/spec_yse_dr1'\n",
    "directory = 'Type II'\n",
    "directory2 = 'Not Type II'\n",
    "path = os.path.join(parent_directory, directory)\n",
    "path2 = os.path.join(parent_directory, directory2)\n",
    "os.mkdir(path)\n",
    "os.mkdir(path2)\n",
    "typeII = []\n",
    "bums = []\n",
    "rest = []\n",
    "for filename in os.listdir(parent_directory):\n",
    "    if filename.endswith('.dat'):\n",
    "        with open(filename) as f:\n",
    "            for i,line in enumerate(f):\n",
    "                if 'SPEC_CLASS_BROAD' in line:\n",
    "                    classification = line.split()\n",
    "                    #print(filename, classification)\n",
    "                    if len(classification) == 2:\n",
    "                        bums.append(filename) \n",
    "                    elif classification[2] == 'II':\n",
    "                        typeII.append(filename)\n",
    "                    else:\n",
    "                        rest.append(filename)\n",
    "                    \n",
    "#print(typeII)\n",
    "print(len(typeII))\n",
    "#print(rest)\n",
    "print(len(rest))\n",
    "#print(bums)\n",
    "print(len(bums))"
   ]
  },
  {
   "cell_type": "code",
   "execution_count": 507,
   "id": "16835572-cee1-43ad-941e-63dea7bb3982",
   "metadata": {},
   "outputs": [],
   "source": [
    "import shutil\n",
    "for filename in os.listdir(parent_directory):\n",
    "    if filename.endswith('.dat'):\n",
    "        f = open(filename)\n",
    "        print(filename)\n",
    "        for i, line in enumerate(f):\n",
    "            if 'SPEC_CLASS_BROAD' in line:\n",
    "                classification = line.split()\n",
    "                source = str(parent_directory) + '/' + str(filename)\n",
    "                destination_not_typeii = str(parent_directory) + '/Not Type II/' + str(filename)\n",
    "                destination = str(parent_directory) + '/Type II/' + str(filename)\n",
    "                if len(classification) == 2:\n",
    "                    f.close()\n",
    "                    shutil.move(source, destination_not_typeii)\n",
    "                elif classification[2] == 'II':\n",
    "                    f.close()\n",
    "                    shutil.move(source, destination)\n",
    "                else:\n",
    "                    f.close()\n",
    "                    shutil.move(source, destination_not_typeii)"
   ]
  },
  {
   "cell_type": "code",
   "execution_count": null,
   "id": "0ecc485b-42b6-4a80-a997-7939b9d6ddd7",
   "metadata": {},
   "outputs": [],
   "source": []
  },
  {
   "cell_type": "code",
   "execution_count": null,
   "id": "e02abfad-0ab7-42b3-9432-b61e0bc3b9c2",
   "metadata": {},
   "outputs": [],
   "source": []
  }
 ],
 "metadata": {
  "kernelspec": {
   "display_name": "Python 3",
   "language": "python",
   "name": "python3"
  },
  "language_info": {
   "codemirror_mode": {
    "name": "ipython",
    "version": 3
   },
   "file_extension": ".py",
   "mimetype": "text/x-python",
   "name": "python",
   "nbconvert_exporter": "python",
   "pygments_lexer": "ipython3",
   "version": "3.8.8"
  }
 },
 "nbformat": 4,
 "nbformat_minor": 5
}
