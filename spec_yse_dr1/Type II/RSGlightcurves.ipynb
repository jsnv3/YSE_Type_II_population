{
 "cells": [
  {
   "cell_type": "code",
   "execution_count": 2,
   "id": "5995f2cd-092f-4d9e-9b76-4fbaa18b28f1",
   "metadata": {},
   "outputs": [],
   "source": [
    "import numpy as np\n",
    "import pandas as pd \n",
    "import matplotlib.pyplot as plt\n",
    "from read_yse_ztf_snana import read_YSE_ZTF_snana_dir as snana"
   ]
  },
  {
   "cell_type": "code",
   "execution_count": 3,
   "id": "ae8114c0-0d98-40fd-afe3-81ba3343b0eb",
   "metadata": {},
   "outputs": [],
   "source": [
    "full_snid_list, full_meta_list, full_df_list = snana(\"Type II\")"
   ]
  },
  {
   "attachments": {},
   "cell_type": "markdown",
   "id": "a40d304d",
   "metadata": {},
   "source": [
    "~~at least some points before peak mag~~\n",
    "\n",
    "~~at least 7 points in lightcurve~~\n",
    "    \n",
    "~~signal to noise < .2~~ "
   ]
  },
  {
   "cell_type": "code",
   "execution_count": 4,
   "id": "1ee921f1",
   "metadata": {},
   "outputs": [],
   "source": [
    "first_cut = []\n",
    "for objectID in full_meta_list:\n",
    "    if objectID['nobs_before_peak'] > 0:\n",
    "        if objectID['nobs_before_peak'] + objectID['nobs_after_peak'] >= 7:\n",
    "            first_cut.append(objectID['object_id'])"
   ]
  },
  {
   "attachments": {},
   "cell_type": "markdown",
   "id": "cdc5189a",
   "metadata": {},
   "source": [
    "removed the following objects because they are flash objects:\n",
    "20abjq, 20acun, 20pni, 20svn, 20tan, 20tlf, 20xua, 21aaqn, 21btn, 21dbg, 21qvr, 21vgn\n",
    "\n",
    "\n",
    "74 objects remain in the sample"
   ]
  },
  {
   "attachments": {},
   "cell_type": "markdown",
   "id": "cdffab10",
   "metadata": {},
   "source": [
    "more restrictive cuts: \n",
    "- objects are ii-p \n",
    "- observations in g,r,i,z \n",
    "- at lesat 5 observations in each band before peak, 10 after \n",
    "- no large gaps\n"
   ]
  },
  {
   "cell_type": "code",
   "execution_count": 5,
   "id": "e49b7f6d",
   "metadata": {},
   "outputs": [],
   "source": [
    "all_df = [] \n",
    "for df in full_df_list:\n",
    "    uniform = df.replace(to_replace = 'X', value = 'g')\n",
    "    uniform = uniform.replace(to_replace = 'Y', value = 'r')\n",
    "    all_df.append(uniform) "
   ]
  },
  {
   "cell_type": "code",
   "execution_count": 6,
   "id": "aa450da2",
   "metadata": {},
   "outputs": [],
   "source": [
    "thesis_criteria_df = [] \n",
    "thesis_criteria_names = [] \n",
    "for df, name in zip(all_df, full_snid_list):\n",
    "    peak = df['MAG'].min()\n",
    "    peak_mjd = df.loc[df['MAG'] == peak, \"MJD\"].iloc[0]\n",
    "    before_peak = df[df['MJD'] < peak_mjd ]\n",
    "    after_peak = df[df['MJD'] >= peak_mjd]\n",
    "    before_peak_filter_counts = {}\n",
    "    after_peak_filter_counts = {}\n",
    "    filters = ['g', 'r']\n",
    "    for filter in filters:\n",
    "        before_peak_filter_counts[filter] = before_peak[before_peak['PASSBAND'] == filter].shape[0]\n",
    "        after_peak_filter_counts[filter] = after_peak[after_peak[\"PASSBAND\"] == filter].shape[0]\n",
    "    if all(n >= 5 for n in before_peak_filter_counts.values()) & all(n >= 10 for n in after_peak_filter_counts.values()):\n",
    "        thesis_criteria_df.append(df)\n",
    "        thesis_criteria_names.append(name)"
   ]
  },
  {
   "cell_type": "code",
   "execution_count": 7,
   "id": "6bea4c62",
   "metadata": {},
   "outputs": [
    {
     "data": {
      "text/plain": [
       "['2019ppi',\n",
       " '2020absk',\n",
       " '2020awg',\n",
       " '2020hgw',\n",
       " '2020jfo',\n",
       " '2020jww',\n",
       " '2020kpz',\n",
       " '2020nim',\n",
       " '2020ovk',\n",
       " '2020rth',\n",
       " '2020tly',\n",
       " '2020zx',\n",
       " '2021arg',\n",
       " '2021bwv',\n",
       " '2021inc',\n",
       " '2021krc',\n",
       " '2021nip']"
      ]
     },
     "execution_count": 7,
     "metadata": {},
     "output_type": "execute_result"
    }
   ],
   "source": [
    "thesis_criteria_names"
   ]
  },
  {
   "attachments": {},
   "cell_type": "markdown",
   "id": "d95749db",
   "metadata": {},
   "source": [
    "final thesis sample (probably)\n",
    "- 2020hgw\n",
    "- 2020jfo \n",
    "- 2020ovk \n",
    "- 2020rth \n",
    "- 2020tly  "
   ]
  },
  {
   "cell_type": "code",
   "execution_count": null,
   "id": "d618419c",
   "metadata": {},
   "outputs": [],
   "source": []
  }
 ],
 "metadata": {
  "kernelspec": {
   "display_name": "TypeII",
   "language": "python",
   "name": "python3"
  },
  "language_info": {
   "codemirror_mode": {
    "name": "ipython",
    "version": 3
   },
   "file_extension": ".py",
   "mimetype": "text/x-python",
   "name": "python",
   "nbconvert_exporter": "python",
   "pygments_lexer": "ipython3",
   "version": "3.10.9"
  },
  "vscode": {
   "interpreter": {
    "hash": "7de1526f4123141de62d54ab1c677422bf5d82e8336fbb86a42c0ed9a745968b"
   }
  }
 },
 "nbformat": 4,
 "nbformat_minor": 5
}
