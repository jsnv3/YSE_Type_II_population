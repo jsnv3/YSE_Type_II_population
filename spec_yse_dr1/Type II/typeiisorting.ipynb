{
 "cells": [
  {
   "cell_type": "code",
   "execution_count": 1,
   "id": "e05e7f41-4602-4039-b0da-591dfcad19ba",
   "metadata": {},
   "outputs": [
    {
     "name": "stdout",
     "output_type": "stream",
     "text": [
      "117\n"
     ]
    }
   ],
   "source": [
    "import os \n",
    "parent = 'C:/Users/JV/RSG_project/spec_yse_dr1/Type II'\n",
    "files = []\n",
    "for filename in os.listdir(parent):\n",
    "    if filename.endswith('.dat'):\n",
    "        with open(filename) as f:\n",
    "            for i, line in enumerate(f):\n",
    "                if 'SPEC_CLASS_BROAD' in line:\n",
    "                    classification = line.split()\n",
    "                    if classification[2] != 'II':\n",
    "                        print(filename, 'imposter')\n",
    "                    else:\n",
    "                        files.append(filename)\n",
    "print(len(files))"
   ]
  },
  {
   "cell_type": "code",
   "execution_count": 11,
   "id": "7d3b825e-fb0c-47fb-8d0c-62f2e10f6c96",
   "metadata": {},
   "outputs": [
    {
     "name": "stdout",
     "output_type": "stream",
     "text": [
      "0\n",
      "0\n",
      "0\n",
      "95\n"
     ]
    }
   ],
   "source": [
    "II_P = []\n",
    "II_n = []\n",
    "II_b = [] \n",
    "II = []\n",
    "for filename in os.listdir(parent):\n",
    "    if filename.endswith('.dat'):\n",
    "        with open(filename) as f:\n",
    "            data =f.readlines()\n",
    "            #print(filename,data[19])\n",
    "            subtype = data[19].split()\n",
    "            if subtype[2] == 'IIP':\n",
    "                II_P.append(filename)\n",
    "            elif subtype[2] == 'IIn':\n",
    "                II_n.append(filename)\n",
    "            elif subtype[2] == 'IIb':\n",
    "                II_b.append(filename)\n",
    "            elif subtype[2] == 'II':\n",
    "                II.append(filename)\n",
    "print(len(II_P))\n",
    "print(len(II_n))\n",
    "print(len(II_b))\n",
    "print(len(II))\n",
    "# print(II)\n",
    "# print(II_n)"
   ]
  },
  {
   "cell_type": "markdown",
   "id": "60aaf31e-497a-4bc6-9a8f-e01de633b49c",
   "metadata": {},
   "source": [
    "NOTES: \n",
    "2020aeqx is IIP\n",
    "2020tfb is IIP \n",
    "2021aaev, 2021agbn, 2021agji not in patrick's data \n",
    "aaev didn't have \"significant amounts of data during the event\", patrick suspects the same for abgn, agji \n",
    "2021bug is LBV, not II"
   ]
  },
  {
   "cell_type": "markdown",
   "id": "6176c813-f9f3-42aa-ae11-aedb76d81a2a",
   "metadata": {},
   "source": []
  }
 ],
 "metadata": {
  "kernelspec": {
   "display_name": "Python 3",
   "language": "python",
   "name": "python3"
  },
  "language_info": {
   "codemirror_mode": {
    "name": "ipython",
    "version": 3
   },
   "file_extension": ".py",
   "mimetype": "text/x-python",
   "name": "python",
   "nbconvert_exporter": "python",
   "pygments_lexer": "ipython3",
   "version": "3.8.8"
  }
 },
 "nbformat": 4,
 "nbformat_minor": 5
}
