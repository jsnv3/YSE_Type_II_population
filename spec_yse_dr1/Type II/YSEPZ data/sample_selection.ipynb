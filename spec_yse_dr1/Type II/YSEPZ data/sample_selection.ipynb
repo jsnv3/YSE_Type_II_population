{
 "cells": [
  {
   "cell_type": "code",
   "execution_count": 6,
   "metadata": {},
   "outputs": [],
   "source": [
    "import numpy as np \n",
    "import matplotlib.pyplot as plt \n",
    "from astropy.table import Table, vstack\n",
    "import pandas as pd\n",
    "from astropy.io import ascii\n",
    "import glob "
   ]
  },
  {
   "cell_type": "code",
   "execution_count": 7,
   "metadata": {},
   "outputs": [],
   "source": [
    "pd.set_option('display.max_rows', None)"
   ]
  },
  {
   "cell_type": "code",
   "execution_count": 8,
   "metadata": {},
   "outputs": [],
   "source": [
    "def import_snana(filename):\n",
    "    start_data = False\n",
    "    table = None\n",
    "    with open(filename) as f:\n",
    "        for i,line in enumerate(f):\n",
    "            if 'VARLIST' in line:\n",
    "                header = line.split()\n",
    "                header = header[0:9]\n",
    "                dummy = [['X'*20]]*len(header)\n",
    "                table = Table(dummy, names=header).copy()[:0]\n",
    "            elif table is not None:\n",
    "                data=line.split()\n",
    "                data=data[0:9]\n",
    "                if len(data)!=9:\n",
    "                    break\n",
    "                table.add_row(data)\n",
    "    mask = np.array([r['MAGERR'] is not None for r in table])\n",
    "    table = table[mask]\n",
    "    table['MJD']    = table['MJD'].astype(float)\n",
    "    table['FLT'] = table['FLT'].astype(str)\n",
    "    table['FLUXCAL'] = table['MAGERR'].astype(float)\n",
    "    table['FLUXCALERR'] = table['MAGERR'].astype(float)\n",
    "    table['MAG'] = table['MAG'].astype(float)\n",
    "    table['MAGERR'] = table['MAGERR'].astype(float)\n",
    "    return(table)"
   ]
  },
  {
   "cell_type": "code",
   "execution_count": 9,
   "metadata": {},
   "outputs": [],
   "source": [
    "files = glob.glob(\"*.snana.txt\") \n",
    "all_data = []\n",
    "for file in files:\n",
    "    dataset = import_snana(file)\n",
    "    all_data.append(dataset)\n"
   ]
  },
  {
   "cell_type": "code",
   "execution_count": 10,
   "metadata": {},
   "outputs": [
    {
     "data": {
      "text/plain": [
       "['2019lbi_data.snana.txt',\n",
       " '2019ppi_data.snana.txt',\n",
       " '2019uez_data.snana.txt',\n",
       " '2019wmr_data.snana.txt',\n",
       " '2020aafm_data.snana.txt',\n",
       " '2020abah_data.snana.txt',\n",
       " '2020abjq_data.snana.txt',\n",
       " '2020absk_data.snana.txt',\n",
       " '2020acun_data.snana.txt',\n",
       " '2020aczd_data.snana.txt',\n",
       " '2020aeeg_data.snana.txt',\n",
       " '2020aeqx_data.snana.txt',\n",
       " '2020ama_data.snana.txt',\n",
       " '2020awg_data.snana.txt',\n",
       " '2020azh_data.snana.txt',\n",
       " '2020dbd_data.snana.txt',\n",
       " '2020eaf_data.snana.txt',\n",
       " '2020ej_data.snana.txt',\n",
       " '2020fc_data.snana.txt',\n",
       " '2020gcv_data.snana.txt',\n",
       " '2020ghq_data.snana.txt',\n",
       " '2020hgw_data.snana.txt',\n",
       " '2020hrw_data.snana.txt',\n",
       " '2020jww_data.snana.txt',\n",
       " '2020koc_data.snana.txt',\n",
       " '2020kpz_data.snana.txt',\n",
       " '2020lfi_data.snana.txt',\n",
       " '2020lrr_data.snana.txt',\n",
       " '2020mks_data.snana.txt',\n",
       " '2020nap_data.snana.txt',\n",
       " '2020nim_data.snana.txt',\n",
       " '2020ofw_data.snana.txt',\n",
       " '2020ovk_data.snana.txt',\n",
       " '2020pni_data.snana.txt',\n",
       " '2020qmo_data.snana.txt',\n",
       " '2020rhg_data.snana.txt',\n",
       " '2020rth_data.snana.txt',\n",
       " '2020scq_data.snana.txt',\n",
       " '2020shf_data.snana.txt',\n",
       " '2020svn_data.snana.txt',\n",
       " '2020tan_data.snana.txt',\n",
       " '2020tfb_data.snana.txt',\n",
       " '2020thx_data.snana.txt',\n",
       " '2020tlf_data.snana.txt',\n",
       " '2020tly_data.snana.txt',\n",
       " '2020tzs_data.snana.txt',\n",
       " '2020uhm_data.snana.txt',\n",
       " '2020uwl_data.snana.txt',\n",
       " '2020vdk_data.snana.txt',\n",
       " '2020whv_data.snana.txt',\n",
       " '2020xua_data.snana.txt',\n",
       " '2020ykb_data.snana.txt',\n",
       " '2020ytg_data.snana.txt',\n",
       " '2020zx_data.snana.txt',\n",
       " '2021aaej_data.snana.txt',\n",
       " '2021aaqn_data.snana.txt',\n",
       " '2021aceh_data.snana.txt',\n",
       " '2021acey_data.snana.txt',\n",
       " '2021acfc_data.snana.txt',\n",
       " '2021achy_data.snana.txt',\n",
       " '2021acjv_data.snana.txt',\n",
       " '2021aff_data.snana.txt',\n",
       " '2021alq_data.snana.txt',\n",
       " '2021arg_data.snana.txt',\n",
       " '2021btn_data.snana.txt',\n",
       " '2021bwv_data.snana.txt',\n",
       " '2021dbg_data.snana.txt',\n",
       " '2021gdz_data.snana.txt',\n",
       " '2021hud_data.snana.txt',\n",
       " '2021hxv_data.snana.txt',\n",
       " '2021ihp_data.snana.txt',\n",
       " '2021inc_data.snana.txt',\n",
       " '2021joz_data.snana.txt',\n",
       " '2021jvl_data.snana.txt',\n",
       " '2021kcz_data.snana.txt',\n",
       " '2021krc_data.snana.txt',\n",
       " '2021nip_data.snana.txt',\n",
       " '2021nue_data.snana.txt',\n",
       " '2021pj_data.snana.txt',\n",
       " '2021qes_data.snana.txt',\n",
       " '2021qvr_data.snana.txt',\n",
       " '2021qzi_data.snana.txt',\n",
       " '2021rem_data.snana.txt',\n",
       " '2021sev_data.snana.txt',\n",
       " '2021skm_data.snana.txt',\n",
       " '2021ukf_data.snana.txt',\n",
       " '2021vgn_data.snana.txt',\n",
       " '2021vrt_data.snana.txt',\n",
       " '2021whv_data.snana.txt',\n",
       " '2021wjs_data.snana.txt',\n",
       " '2021wlr_data.snana.txt',\n",
       " '2021wvw_data.snana.txt',\n",
       " '2021xbf_data.snana.txt',\n",
       " '2021zzv_data.snana.txt']"
      ]
     },
     "execution_count": 10,
     "metadata": {},
     "output_type": "execute_result"
    }
   ],
   "source": [
    "files"
   ]
  },
  {
   "cell_type": "code",
   "execution_count": 11,
   "metadata": {},
   "outputs": [],
   "source": [
    "all_df = []\n",
    "for df in all_data:\n",
    "    convert = df.to_pandas()\n",
    "    convert = convert.dropna()\n",
    "    convert = convert.replace(to_replace = 'g-ZTF', value = 'g')\n",
    "    convert = convert.replace(to_replace = 'r-ZTF', value = 'r')\n",
    "    all_df.append(convert)"
   ]
  },
  {
   "cell_type": "code",
   "execution_count": 13,
   "metadata": {},
   "outputs": [],
   "source": [
    "criteria_met_df = [] \n",
    "criteria_met_names = [] \n",
    "for df, name in zip(all_df, files):\n",
    "    peak = df['MAG'].min()\n",
    "    peak_mjd = df.loc[df['MAG'] == peak, \"MJD\"].iloc[0]\n",
    "    before_peak = df[df['MJD'] < peak_mjd ]\n",
    "    after_peak = df[df['MJD'] >= peak_mjd]\n",
    "    before_peak_filter_counts = {}\n",
    "    after_peak_filter_counts = {}\n",
    "    filters = ['g', 'r', 'i', 'z']\n",
    "    for filter in filters:\n",
    "        before_peak_filter_counts[filter] = before_peak[before_peak['FLT'] == filter].shape[0]\n",
    "        after_peak_filter_counts[filter] = after_peak[after_peak[\"FLT\"] == filter].shape[0]\n",
    "    if all(n >= 5 for n in before_peak_filter_counts.values()) & all(n >= 10 for n in after_peak_filter_counts.values()):\n",
    "        criteria_met_df.append(df)\n",
    "        criteria_met_names.append(name)\n"
   ]
  },
  {
   "cell_type": "code",
   "execution_count": 14,
   "metadata": {},
   "outputs": [
    {
     "data": {
      "text/plain": [
       "['2020koc_data.snana.txt',\n",
       " '2020kpz_data.snana.txt',\n",
       " '2020lrr_data.snana.txt',\n",
       " '2020tfb_data.snana.txt',\n",
       " '2020tlf_data.snana.txt',\n",
       " '2020tly_data.snana.txt',\n",
       " '2020tzs_data.snana.txt',\n",
       " '2021qes_data.snana.txt',\n",
       " '2021sev_data.snana.txt',\n",
       " '2021whv_data.snana.txt']"
      ]
     },
     "execution_count": 14,
     "metadata": {},
     "output_type": "execute_result"
    }
   ],
   "source": [
    "criteria_met_names"
   ]
  },
  {
   "attachments": {},
   "cell_type": "markdown",
   "metadata": {},
   "source": [
    "20kpz is not a ii-p, so we will not include it \n",
    "20tlf is a flash object, will not be included \n"
   ]
  }
 ],
 "metadata": {
  "kernelspec": {
   "display_name": "TypeII",
   "language": "python",
   "name": "python3"
  },
  "language_info": {
   "codemirror_mode": {
    "name": "ipython",
    "version": 3
   },
   "file_extension": ".py",
   "mimetype": "text/x-python",
   "name": "python",
   "nbconvert_exporter": "python",
   "pygments_lexer": "ipython3",
   "version": "3.10.9"
  },
  "orig_nbformat": 4
 },
 "nbformat": 4,
 "nbformat_minor": 2
}
