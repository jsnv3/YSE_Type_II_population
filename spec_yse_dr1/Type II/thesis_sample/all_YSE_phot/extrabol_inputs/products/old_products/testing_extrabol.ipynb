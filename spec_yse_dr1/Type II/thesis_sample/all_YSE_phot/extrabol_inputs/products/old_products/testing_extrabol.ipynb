{
 "cells": [
  {
   "cell_type": "code",
   "execution_count": 1,
   "metadata": {},
   "outputs": [],
   "source": [
    "import numpy as np \n",
    "import matplotlib.pyplot as plt \n",
    "import scipy.interpolate as interp \n",
    "from astropy.io import ascii"
   ]
  },
  {
   "cell_type": "code",
   "execution_count": 4,
   "metadata": {},
   "outputs": [
    {
     "data": {
      "text/html": [
       "<div><i>Table length=490</i>\n",
       "<table id=\"table1887325368912\" class=\"table-striped table-bordered table-condensed\">\n",
       "<thead><tr><th>Time (MJD)</th><th>PAN-STARRS/PS1.g</th><th>PAN-STARRS/PS1.g_err</th><th>PAN-STARRS/PS1.i</th><th>PAN-STARRS/PS1.i_err</th><th>PAN-STARRS/PS1.r</th><th>PAN-STARRS/PS1.r_err</th><th>PAN-STARRS/PS1.z</th><th>PAN-STARRS/PS1.z_err</th><th>Temp./1e3 (K)</th><th>Temp. Err.</th><th>Radius/1e15 (cm)</th><th>Radius Err.</th><th>Log10(Bol. Lum)</th><th>Log10(Bol. Err)</th></tr></thead>\n",
       "<thead><tr><th>float64</th><th>float64</th><th>float64</th><th>float64</th><th>float64</th><th>float64</th><th>float64</th><th>float64</th><th>float64</th><th>float64</th><th>float64</th><th>float64</th><th>float64</th><th>float64</th><th>float64</th></tr></thead>\n",
       "<tr><td>-19.0</td><td>-18.136</td><td>-0.073</td><td>-18.116</td><td>-0.07</td><td>-18.198</td><td>-0.082</td><td>-18.151</td><td>-0.137</td><td>8.158</td><td>0.465</td><td>1.423</td><td>0.127</td><td>42.806</td><td>41.428</td></tr>\n",
       "<tr><td>-18.9</td><td>-18.158</td><td>-0.072</td><td>-18.139</td><td>-0.069</td><td>-18.221</td><td>-0.081</td><td>-18.172</td><td>-0.136</td><td>8.18</td><td>0.457</td><td>1.432</td><td>0.124</td><td>42.816</td><td>41.327</td></tr>\n",
       "<tr><td>-18.8</td><td>-18.181</td><td>-0.071</td><td>-18.161</td><td>-0.068</td><td>-18.243</td><td>-0.08</td><td>-18.193</td><td>-0.135</td><td>8.203</td><td>0.46</td><td>1.441</td><td>0.125</td><td>42.826</td><td>41.511</td></tr>\n",
       "<tr><td>-18.7</td><td>-18.203</td><td>-0.07</td><td>-18.184</td><td>-0.067</td><td>-18.266</td><td>-0.079</td><td>-18.214</td><td>-0.133</td><td>8.204</td><td>0.45</td><td>1.454</td><td>0.123</td><td>42.834</td><td>41.565</td></tr>\n",
       "<tr><td>-18.6</td><td>-18.225</td><td>-0.069</td><td>-18.206</td><td>-0.066</td><td>-18.288</td><td>-0.077</td><td>-18.234</td><td>-0.132</td><td>8.197</td><td>0.437</td><td>1.473</td><td>0.123</td><td>42.844</td><td>41.24</td></tr>\n",
       "<tr><td>-18.5</td><td>-18.246</td><td>-0.067</td><td>-18.228</td><td>-0.065</td><td>-18.309</td><td>-0.076</td><td>-18.254</td><td>-0.13</td><td>8.188</td><td>0.443</td><td>1.49</td><td>0.125</td><td>42.852</td><td>41.603</td></tr>\n",
       "<tr><td>-18.4</td><td>-18.268</td><td>-0.066</td><td>-18.25</td><td>-0.064</td><td>-18.331</td><td>-0.075</td><td>-18.274</td><td>-0.129</td><td>8.193</td><td>0.426</td><td>1.503</td><td>0.122</td><td>42.86</td><td>41.448</td></tr>\n",
       "<tr><td>-18.3</td><td>-18.289</td><td>-0.065</td><td>-18.272</td><td>-0.063</td><td>-18.352</td><td>-0.074</td><td>-18.294</td><td>-0.128</td><td>8.222</td><td>0.443</td><td>1.509</td><td>0.125</td><td>42.87</td><td>41.631</td></tr>\n",
       "<tr><td>-18.2</td><td>-18.31</td><td>-0.064</td><td>-18.294</td><td>-0.063</td><td>-18.374</td><td>-0.073</td><td>-18.314</td><td>-0.126</td><td>8.214</td><td>0.42</td><td>1.527</td><td>0.122</td><td>42.879</td><td>41.455</td></tr>\n",
       "<tr><td>-18.1</td><td>-18.331</td><td>-0.063</td><td>-18.315</td><td>-0.062</td><td>-18.395</td><td>-0.072</td><td>-18.333</td><td>-0.125</td><td>8.21</td><td>0.404</td><td>1.543</td><td>0.119</td><td>42.887</td><td>41.352</td></tr>\n",
       "<tr><td>...</td><td>...</td><td>...</td><td>...</td><td>...</td><td>...</td><td>...</td><td>...</td><td>...</td><td>...</td><td>...</td><td>...</td><td>...</td><td>...</td><td>...</td></tr>\n",
       "<tr><td>29.0</td><td>-17.208</td><td>-0.301</td><td>-17.789</td><td>-0.154</td><td>-18.32</td><td>-0.111</td><td>-18.332</td><td>-0.148</td><td>4.541</td><td>0.308</td><td>3.931</td><td>0.606</td><td>42.671</td><td>nan</td></tr>\n",
       "<tr><td>29.1</td><td>-17.205</td><td>-0.302</td><td>-17.786</td><td>-0.155</td><td>-18.318</td><td>-0.112</td><td>-18.33</td><td>-0.149</td><td>4.542</td><td>0.306</td><td>3.923</td><td>0.602</td><td>42.669</td><td>nan</td></tr>\n",
       "<tr><td>29.2</td><td>-17.202</td><td>-0.303</td><td>-17.783</td><td>-0.157</td><td>-18.316</td><td>-0.114</td><td>-18.329</td><td>-0.15</td><td>4.563</td><td>0.315</td><td>3.883</td><td>0.604</td><td>42.668</td><td>nan</td></tr>\n",
       "<tr><td>29.3</td><td>-17.199</td><td>-0.304</td><td>-17.78</td><td>-0.158</td><td>-18.314</td><td>-0.115</td><td>-18.327</td><td>-0.151</td><td>4.557</td><td>0.316</td><td>3.897</td><td>0.615</td><td>42.669</td><td>nan</td></tr>\n",
       "<tr><td>29.4</td><td>-17.196</td><td>-0.306</td><td>-17.778</td><td>-0.16</td><td>-18.312</td><td>-0.116</td><td>-18.326</td><td>-0.152</td><td>4.553</td><td>0.314</td><td>3.894</td><td>0.614</td><td>42.667</td><td>40.866</td></tr>\n",
       "<tr><td>29.5</td><td>-17.193</td><td>-0.307</td><td>-17.775</td><td>-0.161</td><td>-18.309</td><td>-0.118</td><td>-18.325</td><td>-0.153</td><td>4.54</td><td>0.322</td><td>3.917</td><td>0.634</td><td>42.667</td><td>nan</td></tr>\n",
       "<tr><td>29.6</td><td>-17.19</td><td>-0.308</td><td>-17.772</td><td>-0.163</td><td>-18.307</td><td>-0.119</td><td>-18.323</td><td>-0.155</td><td>4.553</td><td>0.326</td><td>3.882</td><td>0.634</td><td>42.664</td><td>41.44</td></tr>\n",
       "<tr><td>29.7</td><td>-17.187</td><td>-0.309</td><td>-17.769</td><td>-0.164</td><td>-18.305</td><td>-0.12</td><td>-18.322</td><td>-0.156</td><td>4.54</td><td>0.322</td><td>3.906</td><td>0.628</td><td>42.665</td><td>nan</td></tr>\n",
       "<tr><td>29.8</td><td>-17.184</td><td>-0.311</td><td>-17.767</td><td>-0.166</td><td>-18.302</td><td>-0.121</td><td>-18.32</td><td>-0.157</td><td>4.541</td><td>0.321</td><td>3.902</td><td>0.635</td><td>42.664</td><td>nan</td></tr>\n",
       "<tr><td>29.9</td><td>-17.181</td><td>-0.312</td><td>-17.764</td><td>-0.167</td><td>-18.3</td><td>-0.123</td><td>-18.319</td><td>-0.158</td><td>4.522</td><td>0.32</td><td>3.927</td><td>0.639</td><td>42.662</td><td>nan</td></tr>\n",
       "</table></div>"
      ],
      "text/plain": [
       "<Table length=490>\n",
       "Time (MJD) PAN-STARRS/PS1.g ... Log10(Bol. Lum) Log10(Bol. Err)\n",
       " float64       float64      ...     float64         float64    \n",
       "---------- ---------------- ... --------------- ---------------\n",
       "     -19.0          -18.136 ...          42.806          41.428\n",
       "     -18.9          -18.158 ...          42.816          41.327\n",
       "     -18.8          -18.181 ...          42.826          41.511\n",
       "     -18.7          -18.203 ...          42.834          41.565\n",
       "     -18.6          -18.225 ...          42.844           41.24\n",
       "     -18.5          -18.246 ...          42.852          41.603\n",
       "     -18.4          -18.268 ...           42.86          41.448\n",
       "     -18.3          -18.289 ...           42.87          41.631\n",
       "     -18.2           -18.31 ...          42.879          41.455\n",
       "     -18.1          -18.331 ...          42.887          41.352\n",
       "       ...              ... ...             ...             ...\n",
       "      29.0          -17.208 ...          42.671             nan\n",
       "      29.1          -17.205 ...          42.669             nan\n",
       "      29.2          -17.202 ...          42.668             nan\n",
       "      29.3          -17.199 ...          42.669             nan\n",
       "      29.4          -17.196 ...          42.667          40.866\n",
       "      29.5          -17.193 ...          42.667             nan\n",
       "      29.6           -17.19 ...          42.664           41.44\n",
       "      29.7          -17.187 ...          42.665             nan\n",
       "      29.8          -17.184 ...          42.664             nan\n",
       "      29.9          -17.181 ...          42.662             nan"
      ]
     },
     "execution_count": 4,
     "metadata": {},
     "output_type": "execute_result"
    }
   ],
   "source": [
    "bc = ascii.read('SN2010bc_1a.txt')\n",
    "bc"
   ]
  },
  {
   "cell_type": "code",
   "execution_count": 8,
   "metadata": {},
   "outputs": [],
   "source": [
    "lum = bc['Log10(Bol. Lum)'] \n",
    "lum_err = bc['Log10(Bol. Err)'] \n",
    "time = bc['Time (MJD)']"
   ]
  },
  {
   "cell_type": "code",
   "execution_count": 10,
   "metadata": {},
   "outputs": [
    {
     "data": {
      "text/plain": [
       "<ErrorbarContainer object of 3 artists>"
      ]
     },
     "execution_count": 10,
     "metadata": {},
     "output_type": "execute_result"
    },
    {
     "data": {
      "image/png": "[encoded data removed]",
      "text/plain": [
       "<Figure size 640x480 with 1 Axes>"
      ]
     },
     "metadata": {},
     "output_type": "display_data"
    }
   ],
   "source": [
    "plt.errorbar(time, lum, yerr = lum - lum_err) "
   ]
  }
 ],
 "metadata": {
  "kernelspec": {
   "display_name": "extrabol1",
   "language": "python",
   "name": "python3"
  },
  "language_info": {
   "codemirror_mode": {
    "name": "ipython",
    "version": 3
   },
   "file_extension": ".py",
   "mimetype": "text/x-python",
   "name": "python",
   "nbconvert_exporter": "python",
   "pygments_lexer": "ipython3",
   "version": "3.11.4"
  },
  "orig_nbformat": 4
 },
 "nbformat": 4,
 "nbformat_minor": 2
}
