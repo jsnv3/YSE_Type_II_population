{
 "cells": [
  {
   "cell_type": "code",
   "execution_count": null,
   "metadata": {},
   "outputs": [],
   "source": [
    "with open('2020jfo_ps1_g.dat', 'r') as f:\n",
    "    lines = f.readlines()\n",
    "with open('2020jfo_ps1_g.dat', 'w') as f:\n",
    "    for line in lines:\n",
    "        if 'PS1.g' in line:\n",
    "            f.write(line)\n",
    "f.close()"
   ]
  },
  {
   "cell_type": "code",
   "execution_count": 11,
   "metadata": {},
   "outputs": [],
   "source": [
    "with open('2020jfo_ps1_i.dat', 'r') as f:\n",
    "    lines = f.readlines()\n",
    "with open('2020jfo_ps1_i.dat', 'w') as f:\n",
    "    for line in lines:\n",
    "        if 'PS1.i' in line:\n",
    "            f.write(line)\n",
    "f.close()"
   ]
  },
  {
   "cell_type": "code",
   "execution_count": 13,
   "metadata": {},
   "outputs": [],
   "source": [
    "with open('2020jfo_ps1_r.dat', 'r') as f:\n",
    "    lines = f.readlines()\n",
    "with open('2020jfo_ps1_r.dat', 'w') as f:\n",
    "    for line in lines:\n",
    "        if 'PS1.r' in line:\n",
    "            f.write(line)\n",
    "f.close()"
   ]
  },
  {
   "cell_type": "code",
   "execution_count": 15,
   "metadata": {},
   "outputs": [],
   "source": [
    "with open('2020jfo_ps1_z.dat', 'r') as f:\n",
    "    lines = f.readlines()\n",
    "with open('2020jfo_ps1_z.dat', 'w') as f:\n",
    "    for line in lines:\n",
    "        if 'PS1.z' in line:\n",
    "            f.write(line)\n",
    "f.close()"
   ]
  },
  {
   "cell_type": "code",
   "execution_count": 16,
   "metadata": {},
   "outputs": [],
   "source": [
    "with open('2020jfo_gp.dat', 'r') as f:\n",
    "    lines = f.readlines()\n",
    "with open('2020jfo_gp.dat', 'w') as f:\n",
    "    for line in lines:\n",
    "        if 'gprime' in line:\n",
    "            f.write(line)\n",
    "f.close()"
   ]
  },
  {
   "cell_type": "code",
   "execution_count": 17,
   "metadata": {},
   "outputs": [],
   "source": [
    "with open('2020jfo_ip.dat', 'r') as f:\n",
    "    lines = f.readlines()\n",
    "with open('2020jfo_ip.dat', 'w') as f:\n",
    "    for line in lines:\n",
    "        if 'iprime' in line:\n",
    "            f.write(line)\n",
    "f.close()"
   ]
  },
  {
   "cell_type": "code",
   "execution_count": 18,
   "metadata": {},
   "outputs": [],
   "source": [
    "with open('2020jfo_rp.dat', 'r') as f:\n",
    "    lines = f.readlines()\n",
    "with open('2020jfo_rp.dat', 'w') as f:\n",
    "    for line in lines:\n",
    "        if 'rprime' in line:\n",
    "            f.write(line)\n",
    "f.close()"
   ]
  },
  {
   "cell_type": "code",
   "execution_count": 19,
   "metadata": {},
   "outputs": [],
   "source": [
    "with open('2020jfo_ztfg.dat', 'r') as f:\n",
    "    lines = f.readlines()\n",
    "with open('2020jfo_ztfg.dat', 'w') as f:\n",
    "    for line in lines:\n",
    "        if 'ZTF.g' in line:\n",
    "            f.write(line)\n",
    "f.close()"
   ]
  },
  {
   "cell_type": "code",
   "execution_count": 20,
   "metadata": {},
   "outputs": [],
   "source": [
    "with open('2020jfo_ztfr.dat', 'r') as f:\n",
    "    lines = f.readlines()\n",
    "with open('2020jfo_ztfr.dat', 'w') as f:\n",
    "    for line in lines:\n",
    "        if 'ZTF.r' in line:\n",
    "            f.write(line)\n",
    "f.close()"
   ]
  }
 ],
 "metadata": {
  "kernelspec": {
   "display_name": "TypeII",
   "language": "python",
   "name": "python3"
  },
  "language_info": {
   "codemirror_mode": {
    "name": "ipython",
    "version": 3
   },
   "file_extension": ".py",
   "mimetype": "text/x-python",
   "name": "python",
   "nbconvert_exporter": "python",
   "pygments_lexer": "ipython3",
   "version": "3.10.9"
  },
  "orig_nbformat": 4
 },
 "nbformat": 4,
 "nbformat_minor": 2
}
