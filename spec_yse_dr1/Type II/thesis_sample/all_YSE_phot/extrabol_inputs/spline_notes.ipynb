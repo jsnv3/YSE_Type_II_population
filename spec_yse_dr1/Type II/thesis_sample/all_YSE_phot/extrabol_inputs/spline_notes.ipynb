{
 "cells": [
  {
   "cell_type": "code",
   "execution_count": 1,
   "metadata": {},
   "outputs": [],
   "source": [
    "import numpy as np \n",
    "import matplotlib.pyplot as plt \n",
    "from scipy import interpolate as interp "
   ]
  },
  {
   "attachments": {},
   "cell_type": "markdown",
   "metadata": {},
   "source": [
    "- want to make sure you only call the interpolation on the real data per passband once - so you might use: https://docs.scipy.org/doc/scipy/reference/generated/scipy.interpolate.interp1d.html\n",
    "  - also including cubic spline\n",
    "- need to setup the mean function for each passband before the Gaussian process, but after the data is read in - so lets determine where in the code it goes\n",
    "  - currenty have the splines generated as soon as data is read in \n",
    "  - before or after extrabol does data removal (initial rise, data outside of specified start/end dates)? \n",
    "  \n",
    "- know you ultimately want an option to have a different mean function per passband, so I'd have a dictionary with the passband names as keys that returns the mean function for that passband\n",
    "  - probably can be done with dictionary comprehension in one line once read in?\n",
    "- know you want the kind of mean function to be customizable passband-by-passband, so it is probably good to add another command line argument to read in a settings file that has one line per passband defining what to do for the mean function - maybe we start with \"Cubic\", \"linear\", \"template\" as the only options \n",
    "  - have the code automatically generate the file with template as the default? \n",
    "- need to check if the passbands you have in the data match what you have for that SN in the file, so read the data first, then the settings file and throw an error if the settings file is missing a passband in the data \n",
    "  - generating the settings file using the data file should ensure this is always the case"
   ]
  },
  {
   "attachments": {},
   "cell_type": "markdown",
   "metadata": {},
   "source": [
    "first thing i want to do after reading the data in is generate the settings file if the settings file argument is set to false \n",
    "\n",
    "this will grab all the filters from the datafile, and then by default add \"template\"\n",
    "\n",
    "can be manually changed to \"cubic\" or \"linear\" afterwards if template fit is not satisfactory\n",
    "\n",
    "if the argument is true, read the settings file in, and create a dictionary with filters as keys and mean function type as values \n",
    "\n",
    "this way, the filters in the settings file and in the data files should always match"
   ]
  },
  {
   "cell_type": "code",
   "execution_count": 3,
   "metadata": {},
   "outputs": [],
   "source": [
    "#generate settings file if the file doesn't exit yet \n",
    "#use template by default, have cubic and linear as options as well\n",
    "#code will look something like this \n",
    "\n",
    "# if settings is False:\n",
    "#     with open(\"settings.txt\") as f:\n",
    "#         for filter in np.unique(photometry_data[:,3]):\n",
    "#             f.write(f\"{i} \\t template\")\n",
    "        \n",
    "        \n",
    "# read the settings file the file exists, create dictionary           \n",
    "# if settings is True:\n",
    "#     with open(\"settings.txt\", 'r') as f:\n",
    "#         filter_mean_functions = {i.split()[0]:i.split()[1] for i in f}"
   ]
  },
  {
   "attachments": {},
   "cell_type": "markdown",
   "metadata": {},
   "source": [
    "~~right now the read_photometry function is taking in the \"cubic\" or \"linear\" arguments as booleans~~ \n",
    "\n",
    "~~want to change that so the only additional argument is \"settings\", and it extracts the key/value pairings from the dictionary to determine which mean function to use~~ \n",
    "\n",
    "~~cubic and linear spline functions are created for each passband if \"cubic\" or \"linear\" set to True\n",
    "want to only generate the splines required based on key/value pairings in the dictionary~~  \n",
    "\n",
    "now have 5 lists - one that holds filter names for each type of mean function, 1 for cubic splines and 1 for linear splines. \n",
    "\n",
    "\n",
    "we want the option to change the mean funciton for each individual pass band. \n",
    "as of now, the code takes \"use_mean\" to load in a template \n",
    "~~want to edit this so that instead of going straight to generating a template, splines created beforehand for each filter are used as the mean function~~\n",
    "\n",
    "this has been updated to give use_mean options, from 0 to 3. \n",
    "use_mean = 0 will use 0 as the GP mean function \n",
    "use_mean = 1 will use a template as the GP mean function \n",
    "use_mean = 2 will use a linear spline as the GP mean function \n",
    "use_mean = 3 will use a cubic_spline as the GP mean function \n",
    "\n"
   ]
  }
 ],
 "metadata": {
  "kernelspec": {
   "display_name": "TypeII",
   "language": "python",
   "name": "python3"
  },
  "language_info": {
   "codemirror_mode": {
    "name": "ipython",
    "version": 3
   },
   "file_extension": ".py",
   "mimetype": "text/x-python",
   "name": "python",
   "nbconvert_exporter": "python",
   "pygments_lexer": "ipython3",
   "version": "3.10.9"
  },
  "orig_nbformat": 4
 },
 "nbformat": 4,
 "nbformat_minor": 2
}
