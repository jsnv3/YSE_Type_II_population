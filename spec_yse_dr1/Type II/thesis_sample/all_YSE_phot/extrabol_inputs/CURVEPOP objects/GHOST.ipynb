{
 "cells": [
  {
   "cell_type": "code",
   "execution_count": 1,
   "metadata": {},
   "outputs": [
    {
     "name": "stdout",
     "output_type": "stream",
     "text": [
      "Couldn't find where you want to save GHOST. Setting location to package path...\n",
      "GHOST database already exists in the install path!\n",
      "1 transients not found in GHOST by name, trying a coordinate search...\n",
      "1 transients not found in GHOST by name or coordinates, manually associating...\n",
      "Successfully read in GWGC catalog.\n",
      "\n",
      "Found 1 hosts in GLADE! See gladeDLR.txt for details.\n"
     ]
    },
    {
     "name": "stderr",
     "output_type": "stream",
     "text": [
      "WARNING: OverflowError converting to IntType in column objID, reverting to String. [astropy.io.ascii.fastbasic]\n",
      "WARNING: OverflowError converting to IntType in column uniquePspsOBid, reverting to String. [astropy.io.ascii.fastbasic]\n",
      "WARNING: OverflowError converting to IntType in column ippObjID, reverting to String. [astropy.io.ascii.fastbasic]\n",
      "WARNING: OverflowError converting to IntType in column htmID, reverting to String. [astropy.io.ascii.fastbasic]\n",
      "WARNING: OverflowError converting to IntType in column uniquePspsSTid, reverting to String. [astropy.io.ascii.fastbasic]\n",
      "WARNING: OverflowError converting to IntType in column gstackDetectID, reverting to String. [astropy.io.ascii.fastbasic]\n",
      "WARNING: OverflowError converting to IntType in column rstackDetectID, reverting to String. [astropy.io.ascii.fastbasic]\n",
      "WARNING: OverflowError converting to IntType in column istackDetectID, reverting to String. [astropy.io.ascii.fastbasic]\n",
      "WARNING: OverflowError converting to IntType in column zstackDetectID, reverting to String. [astropy.io.ascii.fastbasic]\n",
      "WARNING: OverflowError converting to IntType in column ystackDetectID, reverting to String. [astropy.io.ascii.fastbasic]\n",
      "WARNING: OverflowError converting to IntType in column objID, reverting to String. [astropy.io.ascii.fastbasic]\n",
      "WARNING: OverflowError converting to IntType in column uniquePspsOBid, reverting to String. [astropy.io.ascii.fastbasic]\n",
      "WARNING: OverflowError converting to IntType in column ippObjID, reverting to String. [astropy.io.ascii.fastbasic]\n",
      "WARNING: OverflowError converting to IntType in column htmID, reverting to String. [astropy.io.ascii.fastbasic]\n",
      "WARNING: OverflowError converting to IntType in column uniquePspsSTid, reverting to String. [astropy.io.ascii.fastbasic]\n",
      "WARNING: OverflowError converting to IntType in column gstackDetectID, reverting to String. [astropy.io.ascii.fastbasic]\n",
      "WARNING: OverflowError converting to IntType in column rstackDetectID, reverting to String. [astropy.io.ascii.fastbasic]\n",
      "WARNING: OverflowError converting to IntType in column istackDetectID, reverting to String. [astropy.io.ascii.fastbasic]\n",
      "WARNING: OverflowError converting to IntType in column zstackDetectID, reverting to String. [astropy.io.ascii.fastbasic]\n",
      "WARNING: OverflowError converting to IntType in column ystackDetectID, reverting to String. [astropy.io.ascii.fastbasic]\n"
     ]
    },
    {
     "name": "stdout",
     "output_type": "stream",
     "text": [
      "Host of 2012aw is the hierarchical child of another object in Simbad but dist/DLR>5, keeping existing host.\n"
     ]
    },
    {
     "name": "stderr",
     "output_type": "stream",
     "text": [
      "c:\\Users\\jvasq\\anaconda3\\envs\\TypeII\\lib\\site-packages\\astro_ghost\\stellarLocus.py:56: RuntimeWarning: All-NaN slice encountered\n",
      "  df.loc[i,\"7DCD\"] = np.nanmin(np.array(temp_7DCD_1val))\n"
     ]
    },
    {
     "name": "stdout",
     "output_type": "stream",
     "text": [
      "Found matches for 100.0% of events.\n",
      "Saving table of hosts to ./transients_20240726144411205558/tables/FinalAssociationTable.csv.\n"
     ]
    },
    {
     "ename": "FileNotFoundError",
     "evalue": "[WinError 3] The system cannot find the path specified: './transients_20240726144411205558\\\\gladeDLR.txt' -> './transients_20240726144411205558//printouts/./transients_20240726144411205558\\\\gladeDLR.txt'",
     "output_type": "error",
     "traceback": [
      "\u001b[1;31m---------------------------------------------------------------------------\u001b[0m",
      "\u001b[1;31mFileNotFoundError\u001b[0m                         Traceback (most recent call last)",
      "Cell \u001b[1;32mIn[1], line 9\u001b[0m\n\u001b[0;32m      4\u001b[0m getGHOST(real\u001b[38;5;241m=\u001b[39m\u001b[38;5;28;01mFalse\u001b[39;00m, verbose\u001b[38;5;241m=\u001b[39mverbose)\n\u001b[0;32m      6\u001b[0m transient_position \u001b[38;5;241m=\u001b[39m SkyCoord(\n\u001b[0;32m      7\u001b[0m     ra\u001b[38;5;241m=\u001b[39m\u001b[38;5;241m160.9708\u001b[39m, dec\u001b[38;5;241m=\u001b[39m\u001b[38;5;241m11.6714\u001b[39m, unit\u001b[38;5;241m=\u001b[39m\u001b[38;5;124m\"\u001b[39m\u001b[38;5;124mdeg\u001b[39m\u001b[38;5;124m\"\u001b[39m\n\u001b[0;32m      8\u001b[0m )\n\u001b[1;32m----> 9\u001b[0m host_data \u001b[38;5;241m=\u001b[39m \u001b[43mgetTransientHosts\u001b[49m\u001b[43m(\u001b[49m\n\u001b[0;32m     10\u001b[0m \u001b[43m    \u001b[49m\u001b[43mtransientCoord\u001b[49m\u001b[38;5;241;43m=\u001b[39;49m\u001b[43m[\u001b[49m\u001b[43mtransient_position\u001b[49m\u001b[43m]\u001b[49m\u001b[43m,\u001b[49m\n\u001b[0;32m     11\u001b[0m \u001b[43m    \u001b[49m\u001b[43mtransientName\u001b[49m\u001b[38;5;241;43m=\u001b[39;49m\u001b[43m[\u001b[49m\u001b[38;5;124;43m'\u001b[39;49m\u001b[38;5;124;43m2012aw\u001b[39;49m\u001b[38;5;124;43m'\u001b[39;49m\u001b[43m]\u001b[49m\u001b[43m,\u001b[49m\n\u001b[0;32m     12\u001b[0m \u001b[43m    \u001b[49m\u001b[43mverbose\u001b[49m\u001b[38;5;241;43m=\u001b[39;49m\u001b[38;5;241;43m1\u001b[39;49m\u001b[43m,\u001b[49m\n\u001b[0;32m     13\u001b[0m \u001b[43m    \u001b[49m\u001b[43mstarcut\u001b[49m\u001b[38;5;241;43m=\u001b[39;49m\u001b[38;5;124;43m\"\u001b[39;49m\u001b[38;5;124;43mgentle\u001b[39;49m\u001b[38;5;124;43m\"\u001b[39;49m\u001b[43m,\u001b[49m\n\u001b[0;32m     14\u001b[0m \u001b[43m    \u001b[49m\u001b[43mascentMatch\u001b[49m\u001b[38;5;241;43m=\u001b[39;49m\u001b[38;5;28;43;01mFalse\u001b[39;49;00m\u001b[43m,\u001b[49m\n\u001b[0;32m     15\u001b[0m \u001b[43m)\u001b[49m\n\u001b[0;32m     16\u001b[0m hSpecPath \u001b[38;5;241m=\u001b[39m \u001b[38;5;124m\"\u001b[39m\u001b[38;5;124m./hostSpectra/\u001b[39m\u001b[38;5;124m\"\u001b[39m\n\u001b[0;32m     17\u001b[0m tSpecPath \u001b[38;5;241m=\u001b[39m \u001b[38;5;124m\"\u001b[39m\u001b[38;5;124m./SNspectra/\u001b[39m\u001b[38;5;124m\"\u001b[39m\n",
      "File \u001b[1;32mc:\\Users\\jvasq\\anaconda3\\envs\\TypeII\\lib\\site-packages\\astro_ghost\\ghostHelperFunctions.py:633\u001b[0m, in \u001b[0;36mgetTransientHosts\u001b[1;34m(transientName, transientCoord, snClass, verbose, starcut, ascentMatch, GLADE, px, savepath, GHOSTpath, redo_search)\u001b[0m\n\u001b[0;32m    630\u001b[0m transientCoord_remaining \u001b[38;5;241m=\u001b[39m df_transients_remaining[\u001b[38;5;124m'\u001b[39m\u001b[38;5;124mtransientCoord\u001b[39m\u001b[38;5;124m'\u001b[39m]\u001b[38;5;241m.\u001b[39mvalues\n\u001b[0;32m    631\u001b[0m snClass_remaining \u001b[38;5;241m=\u001b[39m df_transients_remaining[\u001b[38;5;124m'\u001b[39m\u001b[38;5;124msnClass\u001b[39m\u001b[38;5;124m'\u001b[39m]\u001b[38;5;241m.\u001b[39mvalues\n\u001b[1;32m--> 633\u001b[0m tempHost3 \u001b[38;5;241m=\u001b[39m \u001b[43mfindNewHosts\u001b[49m\u001b[43m(\u001b[49m\u001b[43mtransientName_remaining\u001b[49m\u001b[43m,\u001b[49m\u001b[43m \u001b[49m\u001b[43mtransientCoord_remaining\u001b[49m\u001b[43m,\u001b[49m\u001b[43m \u001b[49m\u001b[43msnClass_remaining\u001b[49m\u001b[43m,\u001b[49m\u001b[43m \u001b[49m\u001b[43mverbose\u001b[49m\u001b[43m,\u001b[49m\u001b[43m \u001b[49m\u001b[43mstarcut\u001b[49m\u001b[43m,\u001b[49m\u001b[43m \u001b[49m\u001b[43mascentMatch\u001b[49m\u001b[43m,\u001b[49m\u001b[43m \u001b[49m\u001b[43mpx\u001b[49m\u001b[43m,\u001b[49m\u001b[43m \u001b[49m\u001b[43msavepath\u001b[49m\u001b[43m,\u001b[49m\u001b[43m \u001b[49m\u001b[43mGLADE\u001b[49m\u001b[38;5;241;43m=\u001b[39;49m\u001b[43mGLADE\u001b[49m\u001b[43m)\u001b[49m\n\u001b[0;32m    635\u001b[0m \u001b[38;5;28;01mif\u001b[39;00m (\u001b[38;5;28mlen\u001b[39m(transientName_remaining) \u001b[38;5;241m>\u001b[39m \u001b[38;5;241m0\u001b[39m) \u001b[38;5;129;01mand\u001b[39;00m (\u001b[38;5;28mlen\u001b[39m(tempHost3)\u001b[38;5;241m==\u001b[39m\u001b[38;5;241m0\u001b[39m) \u001b[38;5;129;01mand\u001b[39;00m (redo_search):\n\u001b[0;32m    636\u001b[0m      \u001b[38;5;66;03m#bump up the search radius to 150 arcsec for extremely low-redshift hosts...\u001b[39;00m\n\u001b[0;32m    637\u001b[0m      \u001b[38;5;28;01mif\u001b[39;00m verbose:\n",
      "File \u001b[1;32mc:\\Users\\jvasq\\anaconda3\\envs\\TypeII\\lib\\site-packages\\astro_ghost\\ghostHelperFunctions.py:916\u001b[0m, in \u001b[0;36mfindNewHosts\u001b[1;34m(transientName, transientCoord, snClass, verbose, starcut, ascentMatch, px, savepath, rad, GLADE)\u001b[0m\n\u001b[0;32m    913\u001b[0m host_DF\u001b[38;5;241m.\u001b[39mto_csv(path\u001b[38;5;241m+\u001b[39m\u001b[38;5;124m\"\u001b[39m\u001b[38;5;124mFinalAssociationTable.csv\u001b[39m\u001b[38;5;124m\"\u001b[39m, index\u001b[38;5;241m=\u001b[39m\u001b[38;5;28;01mFalse\u001b[39;00m)\n\u001b[0;32m    915\u001b[0m \u001b[38;5;66;03m#sort things into the relevant folders\u001b[39;00m\n\u001b[1;32m--> 916\u001b[0m \u001b[43mcleanup\u001b[49m\u001b[43m(\u001b[49m\u001b[43mpath\u001b[49m\u001b[43m)\u001b[49m\n\u001b[0;32m    918\u001b[0m \u001b[38;5;66;03m#remove if there's an extra index column\u001b[39;00m\n\u001b[0;32m    919\u001b[0m \u001b[38;5;28;01mtry\u001b[39;00m:\n",
      "File \u001b[1;32mc:\\Users\\jvasq\\anaconda3\\envs\\TypeII\\lib\\site-packages\\astro_ghost\\ghostHelperFunctions.py:57\u001b[0m, in \u001b[0;36mcleanup\u001b[1;34m(path)\u001b[0m\n\u001b[0;32m     55\u001b[0m \u001b[38;5;28;01mfor\u001b[39;00m p \u001b[38;5;129;01min\u001b[39;00m printouts:\n\u001b[0;32m     56\u001b[0m     fn \u001b[38;5;241m=\u001b[39m remove_prefix(p, path)\n\u001b[1;32m---> 57\u001b[0m     \u001b[43mos\u001b[49m\u001b[38;5;241;43m.\u001b[39;49m\u001b[43mrename\u001b[49m\u001b[43m(\u001b[49m\u001b[43mp\u001b[49m\u001b[43m,\u001b[49m\u001b[43m \u001b[49m\u001b[43mprintoutPath\u001b[49m\u001b[38;5;241;43m+\u001b[39;49m\u001b[43mfn\u001b[49m\u001b[43m)\u001b[49m\n\u001b[0;32m     59\u001b[0m table_ext \u001b[38;5;241m=\u001b[39m [\u001b[38;5;124m'\u001b[39m\u001b[38;5;124mcsv\u001b[39m\u001b[38;5;124m'\u001b[39m, \u001b[38;5;124m'\u001b[39m\u001b[38;5;124mgz\u001b[39m\u001b[38;5;124m'\u001b[39m]\n\u001b[0;32m     60\u001b[0m \u001b[38;5;28;01mfor\u001b[39;00m end \u001b[38;5;129;01min\u001b[39;00m table_ext:\n",
      "\u001b[1;31mFileNotFoundError\u001b[0m: [WinError 3] The system cannot find the path specified: './transients_20240726144411205558\\\\gladeDLR.txt' -> './transients_20240726144411205558//printouts/./transients_20240726144411205558\\\\gladeDLR.txt'"
     ]
    }
   ],
   "source": [
    "from astro_ghost.ghostHelperFunctions import getTransientHosts, getGHOST\n",
    "from astropy.coordinates import SkyCoord\n",
    "verbose = 1\n",
    "getGHOST(real=False, verbose=verbose)\n",
    "\n",
    "transient_position = SkyCoord(\n",
    "    ra=160.9708, dec=11.6714, unit=\"deg\"\n",
    ")\n",
    "host_data = getTransientHosts(\n",
    "    transientCoord=[transient_position],\n",
    "    transientName=['2012aw'],\n",
    "    verbose=1,\n",
    "    starcut=\"gentle\",\n",
    "    ascentMatch=False,\n",
    ")\n",
    "hSpecPath = \"./hostSpectra/\"\n",
    "tSpecPath = \"./SNspectra/\"\n",
    "psPath = \"./hostPostageStamps/\"\n",
    "paths = [hSpecPath, tSpecPath, psPath]\n",
    "for tempPath in paths:\n",
    "    if not os.path.exists(tempPath):\n",
    "        os.makedirs(tempPath)\n",
    "\n",
    "now = datetime.now()\n",
    "dateStr = \"%i%.02i%.02i\" % (now.year,now.month,now.day)\n",
    "rad = 30 #arcsec\n",
    "fn_SN = 'transients_%s.csv' % dateStr\n",
    "transients = pd.read_csv(\"./transients_%s/tables/%s\"%(dateStr,fn_SN))"
   ]
  },
  {
   "cell_type": "code",
   "execution_count": 2,
   "metadata": {},
   "outputs": [
    {
     "name": "stdout",
     "output_type": "stream",
     "text": [
      "Couldn't find where you want to save GHOST. Setting location to package path...\n",
      "GHOST database already exists in the install path!\n",
      "3 transients not found in GHOST by name, trying a coordinate search...\n",
      "3 transients not found in GHOST by name or coordinates, manually associating...\n",
      "Successfully read in GWGC catalog.\n",
      "\n",
      "Found 3 hosts in GLADE! See gladeDLR.txt for details.\n"
     ]
    },
    {
     "name": "stderr",
     "output_type": "stream",
     "text": [
      "WARNING: OverflowError converting to IntType in column objID, reverting to String. [astropy.io.ascii.fastbasic]\n",
      "WARNING: OverflowError converting to IntType in column uniquePspsOBid, reverting to String. [astropy.io.ascii.fastbasic]\n",
      "WARNING: OverflowError converting to IntType in column ippObjID, reverting to String. [astropy.io.ascii.fastbasic]\n",
      "WARNING: OverflowError converting to IntType in column htmID, reverting to String. [astropy.io.ascii.fastbasic]\n",
      "WARNING: OverflowError converting to IntType in column uniquePspsSTid, reverting to String. [astropy.io.ascii.fastbasic]\n",
      "WARNING: OverflowError converting to IntType in column gstackDetectID, reverting to String. [astropy.io.ascii.fastbasic]\n",
      "WARNING: OverflowError converting to IntType in column rstackDetectID, reverting to String. [astropy.io.ascii.fastbasic]\n",
      "WARNING: OverflowError converting to IntType in column istackDetectID, reverting to String. [astropy.io.ascii.fastbasic]\n",
      "WARNING: OverflowError converting to IntType in column zstackDetectID, reverting to String. [astropy.io.ascii.fastbasic]\n",
      "WARNING: OverflowError converting to IntType in column ystackDetectID, reverting to String. [astropy.io.ascii.fastbasic]\n",
      "WARNING: OverflowError converting to IntType in column objID, reverting to String. [astropy.io.ascii.fastbasic]\n",
      "WARNING: OverflowError converting to IntType in column uniquePspsOBid, reverting to String. [astropy.io.ascii.fastbasic]\n",
      "WARNING: OverflowError converting to IntType in column ippObjID, reverting to String. [astropy.io.ascii.fastbasic]\n",
      "WARNING: OverflowError converting to IntType in column htmID, reverting to String. [astropy.io.ascii.fastbasic]\n",
      "WARNING: OverflowError converting to IntType in column uniquePspsSTid, reverting to String. [astropy.io.ascii.fastbasic]\n",
      "WARNING: OverflowError converting to IntType in column gstackDetectID, reverting to String. [astropy.io.ascii.fastbasic]\n",
      "WARNING: OverflowError converting to IntType in column rstackDetectID, reverting to String. [astropy.io.ascii.fastbasic]\n",
      "WARNING: OverflowError converting to IntType in column istackDetectID, reverting to String. [astropy.io.ascii.fastbasic]\n",
      "WARNING: OverflowError converting to IntType in column zstackDetectID, reverting to String. [astropy.io.ascii.fastbasic]\n",
      "WARNING: OverflowError converting to IntType in column ystackDetectID, reverting to String. [astropy.io.ascii.fastbasic]\n",
      "WARNING: OverflowError converting to IntType in column objID, reverting to String. [astropy.io.ascii.fastbasic]\n",
      "WARNING: OverflowError converting to IntType in column uniquePspsOBid, reverting to String. [astropy.io.ascii.fastbasic]\n",
      "WARNING: OverflowError converting to IntType in column ippObjID, reverting to String. [astropy.io.ascii.fastbasic]\n",
      "WARNING: OverflowError converting to IntType in column htmID, reverting to String. [astropy.io.ascii.fastbasic]\n",
      "WARNING: OverflowError converting to IntType in column uniquePspsSTid, reverting to String. [astropy.io.ascii.fastbasic]\n",
      "WARNING: OverflowError converting to IntType in column gstackDetectID, reverting to String. [astropy.io.ascii.fastbasic]\n",
      "WARNING: OverflowError converting to IntType in column rstackDetectID, reverting to String. [astropy.io.ascii.fastbasic]\n",
      "WARNING: OverflowError converting to IntType in column istackDetectID, reverting to String. [astropy.io.ascii.fastbasic]\n",
      "WARNING: OverflowError converting to IntType in column zstackDetectID, reverting to String. [astropy.io.ascii.fastbasic]\n",
      "WARNING: OverflowError converting to IntType in column ystackDetectID, reverting to String. [astropy.io.ascii.fastbasic]\n",
      "c:\\Users\\jvasq\\anaconda3\\envs\\TypeII\\lib\\site-packages\\astro_ghost\\stellarLocus.py:56: RuntimeWarning: All-NaN slice encountered\n",
      "  df.loc[i,\"7DCD\"] = np.nanmin(np.array(temp_7DCD_1val))\n"
     ]
    },
    {
     "name": "stdout",
     "output_type": "stream",
     "text": [
      "Found matches for 100.0% of events.\n",
      "Saving table of hosts to ./transients_20240726151051513314/tables/FinalAssociationTable.csv.\n"
     ]
    },
    {
     "ename": "FileNotFoundError",
     "evalue": "[WinError 3] The system cannot find the path specified: './transients_20240726151051513314\\\\gladeDLR.txt' -> './transients_20240726151051513314//printouts/./transients_20240726151051513314\\\\gladeDLR.txt'",
     "output_type": "error",
     "traceback": [
      "\u001b[1;31m---------------------------------------------------------------------------\u001b[0m",
      "\u001b[1;31mFileNotFoundError\u001b[0m                         Traceback (most recent call last)",
      "Cell \u001b[1;32mIn[2], line 33\u001b[0m\n\u001b[0;32m     28\u001b[0m snClass \u001b[38;5;241m=\u001b[39m [\u001b[38;5;124m'\u001b[39m\u001b[38;5;124mSN IIP\u001b[39m\u001b[38;5;124m'\u001b[39m, \u001b[38;5;124m'\u001b[39m\u001b[38;5;124mSN\u001b[39m\u001b[38;5;124m'\u001b[39m, \u001b[38;5;124m'\u001b[39m\u001b[38;5;124mSN Ia\u001b[39m\u001b[38;5;124m'\u001b[39m]\n\u001b[0;32m     30\u001b[0m \u001b[38;5;66;03m# run the association algorithm!\u001b[39;00m\n\u001b[0;32m     31\u001b[0m \u001b[38;5;66;03m# this first checks the GHOST database for a SN by name, then by coordinates, and\u001b[39;00m\n\u001b[0;32m     32\u001b[0m \u001b[38;5;66;03m# if we have no match then it manually associates them.\u001b[39;00m\n\u001b[1;32m---> 33\u001b[0m hosts \u001b[38;5;241m=\u001b[39m \u001b[43mgetTransientHosts\u001b[49m\u001b[43m(\u001b[49m\u001b[43msnName\u001b[49m\u001b[43m,\u001b[49m\u001b[43m \u001b[49m\u001b[43msnCoord\u001b[49m\u001b[43m,\u001b[49m\u001b[43m \u001b[49m\u001b[43msnClass\u001b[49m\u001b[43m,\u001b[49m\u001b[43m \u001b[49m\u001b[43mverbose\u001b[49m\u001b[38;5;241;43m=\u001b[39;49m\u001b[43mverbose\u001b[49m\u001b[43m,\u001b[49m\u001b[43m \u001b[49m\u001b[43mstarcut\u001b[49m\u001b[38;5;241;43m=\u001b[39;49m\u001b[38;5;124;43m'\u001b[39;49m\u001b[38;5;124;43mnormal\u001b[39;49m\u001b[38;5;124;43m'\u001b[39;49m\u001b[43m)\u001b[49m\n\u001b[0;32m     35\u001b[0m \u001b[38;5;66;03m#create directories to store the host spectra, the transient spectra, and the postage stamps\u001b[39;00m\n\u001b[0;32m     36\u001b[0m hSpecPath \u001b[38;5;241m=\u001b[39m \u001b[38;5;124m\"\u001b[39m\u001b[38;5;124m./hostSpectra/\u001b[39m\u001b[38;5;124m\"\u001b[39m\n",
      "File \u001b[1;32mc:\\Users\\jvasq\\anaconda3\\envs\\TypeII\\lib\\site-packages\\astro_ghost\\ghostHelperFunctions.py:633\u001b[0m, in \u001b[0;36mgetTransientHosts\u001b[1;34m(transientName, transientCoord, snClass, verbose, starcut, ascentMatch, GLADE, px, savepath, GHOSTpath, redo_search)\u001b[0m\n\u001b[0;32m    630\u001b[0m transientCoord_remaining \u001b[38;5;241m=\u001b[39m df_transients_remaining[\u001b[38;5;124m'\u001b[39m\u001b[38;5;124mtransientCoord\u001b[39m\u001b[38;5;124m'\u001b[39m]\u001b[38;5;241m.\u001b[39mvalues\n\u001b[0;32m    631\u001b[0m snClass_remaining \u001b[38;5;241m=\u001b[39m df_transients_remaining[\u001b[38;5;124m'\u001b[39m\u001b[38;5;124msnClass\u001b[39m\u001b[38;5;124m'\u001b[39m]\u001b[38;5;241m.\u001b[39mvalues\n\u001b[1;32m--> 633\u001b[0m tempHost3 \u001b[38;5;241m=\u001b[39m \u001b[43mfindNewHosts\u001b[49m\u001b[43m(\u001b[49m\u001b[43mtransientName_remaining\u001b[49m\u001b[43m,\u001b[49m\u001b[43m \u001b[49m\u001b[43mtransientCoord_remaining\u001b[49m\u001b[43m,\u001b[49m\u001b[43m \u001b[49m\u001b[43msnClass_remaining\u001b[49m\u001b[43m,\u001b[49m\u001b[43m \u001b[49m\u001b[43mverbose\u001b[49m\u001b[43m,\u001b[49m\u001b[43m \u001b[49m\u001b[43mstarcut\u001b[49m\u001b[43m,\u001b[49m\u001b[43m \u001b[49m\u001b[43mascentMatch\u001b[49m\u001b[43m,\u001b[49m\u001b[43m \u001b[49m\u001b[43mpx\u001b[49m\u001b[43m,\u001b[49m\u001b[43m \u001b[49m\u001b[43msavepath\u001b[49m\u001b[43m,\u001b[49m\u001b[43m \u001b[49m\u001b[43mGLADE\u001b[49m\u001b[38;5;241;43m=\u001b[39;49m\u001b[43mGLADE\u001b[49m\u001b[43m)\u001b[49m\n\u001b[0;32m    635\u001b[0m \u001b[38;5;28;01mif\u001b[39;00m (\u001b[38;5;28mlen\u001b[39m(transientName_remaining) \u001b[38;5;241m>\u001b[39m \u001b[38;5;241m0\u001b[39m) \u001b[38;5;129;01mand\u001b[39;00m (\u001b[38;5;28mlen\u001b[39m(tempHost3)\u001b[38;5;241m==\u001b[39m\u001b[38;5;241m0\u001b[39m) \u001b[38;5;129;01mand\u001b[39;00m (redo_search):\n\u001b[0;32m    636\u001b[0m      \u001b[38;5;66;03m#bump up the search radius to 150 arcsec for extremely low-redshift hosts...\u001b[39;00m\n\u001b[0;32m    637\u001b[0m      \u001b[38;5;28;01mif\u001b[39;00m verbose:\n",
      "File \u001b[1;32mc:\\Users\\jvasq\\anaconda3\\envs\\TypeII\\lib\\site-packages\\astro_ghost\\ghostHelperFunctions.py:916\u001b[0m, in \u001b[0;36mfindNewHosts\u001b[1;34m(transientName, transientCoord, snClass, verbose, starcut, ascentMatch, px, savepath, rad, GLADE)\u001b[0m\n\u001b[0;32m    913\u001b[0m host_DF\u001b[38;5;241m.\u001b[39mto_csv(path\u001b[38;5;241m+\u001b[39m\u001b[38;5;124m\"\u001b[39m\u001b[38;5;124mFinalAssociationTable.csv\u001b[39m\u001b[38;5;124m\"\u001b[39m, index\u001b[38;5;241m=\u001b[39m\u001b[38;5;28;01mFalse\u001b[39;00m)\n\u001b[0;32m    915\u001b[0m \u001b[38;5;66;03m#sort things into the relevant folders\u001b[39;00m\n\u001b[1;32m--> 916\u001b[0m \u001b[43mcleanup\u001b[49m\u001b[43m(\u001b[49m\u001b[43mpath\u001b[49m\u001b[43m)\u001b[49m\n\u001b[0;32m    918\u001b[0m \u001b[38;5;66;03m#remove if there's an extra index column\u001b[39;00m\n\u001b[0;32m    919\u001b[0m \u001b[38;5;28;01mtry\u001b[39;00m:\n",
      "File \u001b[1;32mc:\\Users\\jvasq\\anaconda3\\envs\\TypeII\\lib\\site-packages\\astro_ghost\\ghostHelperFunctions.py:57\u001b[0m, in \u001b[0;36mcleanup\u001b[1;34m(path)\u001b[0m\n\u001b[0;32m     55\u001b[0m \u001b[38;5;28;01mfor\u001b[39;00m p \u001b[38;5;129;01min\u001b[39;00m printouts:\n\u001b[0;32m     56\u001b[0m     fn \u001b[38;5;241m=\u001b[39m remove_prefix(p, path)\n\u001b[1;32m---> 57\u001b[0m     \u001b[43mos\u001b[49m\u001b[38;5;241;43m.\u001b[39;49m\u001b[43mrename\u001b[49m\u001b[43m(\u001b[49m\u001b[43mp\u001b[49m\u001b[43m,\u001b[49m\u001b[43m \u001b[49m\u001b[43mprintoutPath\u001b[49m\u001b[38;5;241;43m+\u001b[39;49m\u001b[43mfn\u001b[49m\u001b[43m)\u001b[49m\n\u001b[0;32m     59\u001b[0m table_ext \u001b[38;5;241m=\u001b[39m [\u001b[38;5;124m'\u001b[39m\u001b[38;5;124mcsv\u001b[39m\u001b[38;5;124m'\u001b[39m, \u001b[38;5;124m'\u001b[39m\u001b[38;5;124mgz\u001b[39m\u001b[38;5;124m'\u001b[39m]\n\u001b[0;32m     60\u001b[0m \u001b[38;5;28;01mfor\u001b[39;00m end \u001b[38;5;129;01min\u001b[39;00m table_ext:\n",
      "\u001b[1;31mFileNotFoundError\u001b[0m: [WinError 3] The system cannot find the path specified: './transients_20240726151051513314\\\\gladeDLR.txt' -> './transients_20240726151051513314//printouts/./transients_20240726151051513314\\\\gladeDLR.txt'"
     ]
    }
   ],
   "source": [
    "import os\n",
    "import sys\n",
    "from astro_ghost.PS1QueryFunctions import getAllPostageStamps\n",
    "from astro_ghost.TNSQueryFunctions import getTNSSpectra\n",
    "from astro_ghost.NEDQueryFunctions import getNEDSpectra\n",
    "from astro_ghost.ghostHelperFunctions import getTransientHosts, getGHOST\n",
    "from astropy.coordinates import SkyCoord\n",
    "from astropy import units as u\n",
    "import pandas as pd\n",
    "from datetime import datetime\n",
    "\n",
    "#we want to include print statements so we know what the algorithm is doing\n",
    "verbose = 1\n",
    "\n",
    "#download the database from ghost.ncsa.illinois.edu\n",
    "#note: real=False creates an empty database, which\n",
    "#allows you to use the association methods without\n",
    "#needing to download the full database first\n",
    "getGHOST(real=False, verbose=verbose)\n",
    "\n",
    "#create a list of the supernova names, their skycoords, and their classes (these three are from TNS)\n",
    "snName = ['SN 2012dt', 'SN 1998bn', 'SN 1957B']\n",
    "\n",
    "snCoord = [SkyCoord(14.162*u.deg, -9.90253*u.deg, frame='icrs'), \\\n",
    "            SkyCoord(187.32867*u.deg, -23.16367*u.deg, frame='icrs'), \\\n",
    "            SkyCoord(186.26125*u.deg, +12.899444*u.deg, frame='icrs')]\n",
    "\n",
    "snClass = ['SN IIP', 'SN', 'SN Ia']\n",
    "\n",
    "# run the association algorithm!\n",
    "# this first checks the GHOST database for a SN by name, then by coordinates, and\n",
    "# if we have no match then it manually associates them.\n",
    "hosts = getTransientHosts(snName, snCoord, snClass, verbose=verbose, starcut='normal')\n",
    "\n",
    "#create directories to store the host spectra, the transient spectra, and the postage stamps\n",
    "hSpecPath = \"./hostSpectra/\"\n",
    "tSpecPath = \"./SNspectra/\"\n",
    "psPath = \"./hostPostageStamps/\"\n",
    "paths = [hSpecPath, tSpecPath, psPath]\n",
    "for tempPath in paths:\n",
    "    if not os.path.exists(tempPath):\n",
    "        os.makedirs(tempPath)\n",
    "\n",
    "now = datetime.now()\n",
    "dateStr = \"%i%.02i%.02i\" % (now.year,now.month,now.day)\n",
    "rad = 30 #arcsec\n",
    "fn_SN = 'transients_%s.csv' % dateStr\n",
    "transients = pd.read_csv(\"./transients_%s/tables/%s\"%(dateStr,fn_SN))\n",
    "\n",
    "#get postage stamps and spectra\n",
    "getAllPostageStamps(hosts, 120, psPath, verbose) #get postage stamps of hosts\n",
    "getNEDSpectra(hosts, hSpecPath, verbose) #get spectra of hosts\n",
    "getTNSSpectra(transients, tSpecPath, verbose) #get spectra of transients (if on TNS)"
   ]
  }
 ],
 "metadata": {
  "kernelspec": {
   "display_name": "TypeII",
   "language": "python",
   "name": "python3"
  },
  "language_info": {
   "codemirror_mode": {
    "name": "ipython",
    "version": 3
   },
   "file_extension": ".py",
   "mimetype": "text/x-python",
   "name": "python",
   "nbconvert_exporter": "python",
   "pygments_lexer": "ipython3",
   "version": "3.10.9"
  }
 },
 "nbformat": 4,
 "nbformat_minor": 2
}
