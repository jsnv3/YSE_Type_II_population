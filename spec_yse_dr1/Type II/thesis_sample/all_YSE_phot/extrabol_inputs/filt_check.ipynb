{
 "cells": [
  {
   "cell_type": "code",
   "execution_count": 1,
   "metadata": {},
   "outputs": [],
   "source": [
    "import numpy as np \n",
    "import matplotlib.pyplot as plt \n",
    "from astropy.table import Table"
   ]
  },
  {
   "cell_type": "code",
   "execution_count": 5,
   "metadata": {},
   "outputs": [
    {
     "data": {
      "text/html": [
       "<div><i>Table length=155</i>\n",
       "<table id=\"table2664247168784\" class=\"table-striped table-bordered table-condensed\">\n",
       "<thead><tr><th>col1</th><th>col2</th><th>col3</th><th>col4</th><th>col5</th></tr></thead>\n",
       "<thead><tr><th>float64</th><th>float64</th><th>float64</th><th>str17</th><th>str2</th></tr></thead>\n",
       "<tr><td>59108.39</td><td>20.083</td><td>0.18296447742663055</td><td>Palomar/ZTF.r</td><td>AB</td></tr>\n",
       "<tr><td>59109.322</td><td>19.286</td><td>0.12907749610214786</td><td>Palomar/ZTF.g</td><td>AB</td></tr>\n",
       "<tr><td>59109.41</td><td>19.568</td><td>0.15243359209832982</td><td>Palomar/ZTF.r</td><td>AB</td></tr>\n",
       "<tr><td>59110.346</td><td>19.078</td><td>0.0977547952787995</td><td>Palomar/ZTF.g</td><td>AB</td></tr>\n",
       "<tr><td>59110.359</td><td>19.303</td><td>0.11090987332063815</td><td>Palomar/ZTF.r</td><td>AB</td></tr>\n",
       "<tr><td>59111.367</td><td>19.035</td><td>0.11269871339105873</td><td>Palomar/ZTF.g</td><td>AB</td></tr>\n",
       "<tr><td>59113.302</td><td>19.075</td><td>0.11629703349613006</td><td>Palomar/ZTF.r</td><td>AB</td></tr>\n",
       "<tr><td>59113.34</td><td>19.195</td><td>0.0876584280032445</td><td>Palomar/ZTF.r</td><td>AB</td></tr>\n",
       "<tr><td>59113.39</td><td>19.011</td><td>0.08848163651289458</td><td>Palomar/ZTF.g</td><td>AB</td></tr>\n",
       "<tr><td>59114.322</td><td>19.03</td><td>0.08930845424706443</td><td>Palomar/ZTF.g</td><td>AB</td></tr>\n",
       "<tr><td>...</td><td>...</td><td>...</td><td>...</td><td>...</td></tr>\n",
       "<tr><td>59157.387</td><td>19.367</td><td>0.2236604569431083</td><td>Misc/Atlas.orange</td><td>AB</td></tr>\n",
       "<tr><td>59157.397</td><td>19.369</td><td>0.1600124995117569</td><td>Misc/Atlas.orange</td><td>AB</td></tr>\n",
       "<tr><td>59161.374</td><td>19.307</td><td>0.143024473430249</td><td>Misc/Atlas.orange</td><td>AB</td></tr>\n",
       "<tr><td>59161.379</td><td>19.758</td><td>0.23341807984815574</td><td>Misc/Atlas.orange</td><td>AB</td></tr>\n",
       "<tr><td>59161.385</td><td>19.647</td><td>0.20809613163151305</td><td>Misc/Atlas.orange</td><td>AB</td></tr>\n",
       "<tr><td>59169.332</td><td>19.389</td><td>0.16667633305301627</td><td>Misc/Atlas.orange</td><td>AB</td></tr>\n",
       "<tr><td>59169.354</td><td>19.689</td><td>0.191637678967368</td><td>Misc/Atlas.orange</td><td>AB</td></tr>\n",
       "<tr><td>59169.362</td><td>19.673</td><td>0.20809613163151305</td><td>Misc/Atlas.orange</td><td>AB</td></tr>\n",
       "<tr><td>59187.366</td><td>19.396</td><td>0.23146490014686893</td><td>Misc/Atlas.orange</td><td>AB</td></tr>\n",
       "<tr><td>59189.294</td><td>19.692</td><td>0.2129530464679949</td><td>Misc/Atlas.orange</td><td>AB</td></tr>\n",
       "</table></div>"
      ],
      "text/plain": [
       "<Table length=155>\n",
       "   col1     col2          col3               col4       col5\n",
       " float64  float64       float64             str17       str2\n",
       "--------- ------- ------------------- ----------------- ----\n",
       " 59108.39  20.083 0.18296447742663055     Palomar/ZTF.r   AB\n",
       "59109.322  19.286 0.12907749610214786     Palomar/ZTF.g   AB\n",
       " 59109.41  19.568 0.15243359209832982     Palomar/ZTF.r   AB\n",
       "59110.346  19.078  0.0977547952787995     Palomar/ZTF.g   AB\n",
       "59110.359  19.303 0.11090987332063815     Palomar/ZTF.r   AB\n",
       "59111.367  19.035 0.11269871339105873     Palomar/ZTF.g   AB\n",
       "59113.302  19.075 0.11629703349613006     Palomar/ZTF.r   AB\n",
       " 59113.34  19.195  0.0876584280032445     Palomar/ZTF.r   AB\n",
       " 59113.39  19.011 0.08848163651289458     Palomar/ZTF.g   AB\n",
       "59114.322   19.03 0.08930845424706443     Palomar/ZTF.g   AB\n",
       "      ...     ...                 ...               ...  ...\n",
       "59157.387  19.367  0.2236604569431083 Misc/Atlas.orange   AB\n",
       "59157.397  19.369  0.1600124995117569 Misc/Atlas.orange   AB\n",
       "59161.374  19.307   0.143024473430249 Misc/Atlas.orange   AB\n",
       "59161.379  19.758 0.23341807984815574 Misc/Atlas.orange   AB\n",
       "59161.385  19.647 0.20809613163151305 Misc/Atlas.orange   AB\n",
       "59169.332  19.389 0.16667633305301627 Misc/Atlas.orange   AB\n",
       "59169.354  19.689   0.191637678967368 Misc/Atlas.orange   AB\n",
       "59169.362  19.673 0.20809613163151305 Misc/Atlas.orange   AB\n",
       "59187.366  19.396 0.23146490014686893 Misc/Atlas.orange   AB\n",
       "59189.294  19.692  0.2129530464679949 Misc/Atlas.orange   AB"
      ]
     },
     "execution_count": 5,
     "metadata": {},
     "output_type": "execute_result"
    }
   ],
   "source": [
    "tly = Table.read('2020tly.dat', format = 'ascii', data_start = 2)\n",
    "tly"
   ]
  },
  {
   "cell_type": "code",
   "execution_count": 8,
   "metadata": {},
   "outputs": [
    {
     "data": {
      "text/html": [
       "&lt;Column name=&apos;col4&apos; dtype=&apos;str17&apos; length=8&gt;\n",
       "<table>\n",
       "<tr><td>Misc/Atlas.cyan</td></tr>\n",
       "<tr><td>Misc/Atlas.orange</td></tr>\n",
       "<tr><td>PAN-STARRS/PS1.g</td></tr>\n",
       "<tr><td>PAN-STARRS/PS1.i</td></tr>\n",
       "<tr><td>PAN-STARRS/PS1.r</td></tr>\n",
       "<tr><td>PAN-STARRS/PS1.w</td></tr>\n",
       "<tr><td>Palomar/ZTF.g</td></tr>\n",
       "<tr><td>Palomar/ZTF.r</td></tr>\n",
       "</table>"
      ],
      "text/plain": [
       "<Column name='col4' dtype='str17' length=8>\n",
       "  Misc/Atlas.cyan\n",
       "Misc/Atlas.orange\n",
       " PAN-STARRS/PS1.g\n",
       " PAN-STARRS/PS1.i\n",
       " PAN-STARRS/PS1.r\n",
       " PAN-STARRS/PS1.w\n",
       "    Palomar/ZTF.g\n",
       "    Palomar/ZTF.r"
      ]
     },
     "execution_count": 8,
     "metadata": {},
     "output_type": "execute_result"
    }
   ],
   "source": [
    "tly_unique = np.unique(tly['col4'])\n",
    "tly_unique"
   ]
  }
 ],
 "metadata": {
  "kernelspec": {
   "display_name": "TypeII",
   "language": "python",
   "name": "python3"
  },
  "language_info": {
   "codemirror_mode": {
    "name": "ipython",
    "version": 3
   },
   "file_extension": ".py",
   "mimetype": "text/x-python",
   "name": "python",
   "nbconvert_exporter": "python",
   "pygments_lexer": "ipython3",
   "version": "3.10.9"
  }
 },
 "nbformat": 4,
 "nbformat_minor": 2
}
