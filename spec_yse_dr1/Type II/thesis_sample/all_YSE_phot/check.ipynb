{
 "cells": [
  {
   "cell_type": "code",
   "execution_count": 1,
   "metadata": {},
   "outputs": [],
   "source": [
    "import numpy as np \n",
    "import matplotlib.pyplot as plt \n",
    "from astropy.table import Table"
   ]
  },
  {
   "cell_type": "code",
   "execution_count": 2,
   "metadata": {},
   "outputs": [],
   "source": [
    "tly = Table.read('2020tly_YSEdata.snana.txt', format = 'ascii')"
   ]
  },
  {
   "cell_type": "code",
   "execution_count": 3,
   "metadata": {},
   "outputs": [
    {
     "data": {
      "text/html": [
       "<div><i>Table length=407</i>\n",
       "<table id=\"table1584890320768\" class=\"table-striped table-bordered table-condensed\">\n",
       "<thead><tr><th>VARLIST:</th><th>MJD</th><th>FLT</th><th>FLUXCAL</th><th>FLUXCALERR</th><th>MAG</th><th>MAGERR</th><th>MAGSYS</th><th>TELESCOPE</th><th>INSTRUMENT</th><th>DQ</th></tr></thead>\n",
       "<thead><tr><th>str4</th><th>float64</th><th>str12</th><th>float64</th><th>float64</th><th>float64</th><th>float64</th><th>str4</th><th>str11</th><th>str7</th><th>str4</th></tr></thead>\n",
       "<tr><td>OBS:</td><td>59108.39</td><td>r-ZTF</td><td>926.021</td><td>150.167</td><td>20.083</td><td>0.176</td><td>None</td><td>P48</td><td>ZTF-Cam</td><td>None</td></tr>\n",
       "<tr><td>OBS:</td><td>59109.322</td><td>g-ZTF</td><td>1929.716</td><td>210.787</td><td>19.286</td><td>0.119</td><td>None</td><td>P48</td><td>ZTF-Cam</td><td>None</td></tr>\n",
       "<tr><td>OBS:</td><td>59109.41</td><td>r-ZTF</td><td>1488.321</td><td>197.713</td><td>19.568</td><td>0.144</td><td>None</td><td>P48</td><td>ZTF-Cam</td><td>None</td></tr>\n",
       "<tr><td>OBS:</td><td>59110.346</td><td>g-ZTF</td><td>2337.179</td><td>180.898</td><td>19.078</td><td>0.084</td><td>None</td><td>P48</td><td>ZTF-Cam</td><td>None</td></tr>\n",
       "<tr><td>OBS:</td><td>59110.359</td><td>r-ZTF</td><td>1900.948</td><td>172.52</td><td>19.303</td><td>0.099</td><td>None</td><td>P48</td><td>ZTF-Cam</td><td>None</td></tr>\n",
       "<tr><td>OBS:</td><td>59111.367</td><td>g-ZTF</td><td>2432.615</td><td>226.918</td><td>19.035</td><td>0.101</td><td>None</td><td>P48</td><td>ZTF-Cam</td><td>None</td></tr>\n",
       "<tr><td>OBS:</td><td>59113.302</td><td>r-ZTF</td><td>2344.561</td><td>226.736</td><td>19.075</td><td>0.105</td><td>None</td><td>P48</td><td>ZTF-Cam</td><td>None</td></tr>\n",
       "<tr><td>OBS:</td><td>59113.34</td><td>r-ZTF</td><td>2098.701</td><td>138.394</td><td>19.195</td><td>0.072</td><td>None</td><td>P48</td><td>ZTF-Cam</td><td>None</td></tr>\n",
       "<tr><td>OBS:</td><td>59113.39</td><td>g-ZTF</td><td>2486.742</td><td>167.677</td><td>19.011</td><td>0.073</td><td>None</td><td>P48</td><td>ZTF-Cam</td><td>None</td></tr>\n",
       "<tr><td>OBS:</td><td>59114.322</td><td>g-ZTF</td><td>2443.322</td><td>165.617</td><td>19.03</td><td>0.074</td><td>None</td><td>P48</td><td>ZTF-Cam</td><td>None</td></tr>\n",
       "<tr><td>...</td><td>...</td><td>...</td><td>...</td><td>...</td><td>...</td><td>...</td><td>...</td><td>...</td><td>...</td><td>...</td></tr>\n",
       "<tr><td>OBS:</td><td>59774.558</td><td>r</td><td>52.345</td><td>121.082</td><td>23.203</td><td>2.313</td><td>None</td><td>Pan-STARRS2</td><td>GPC2</td><td>None</td></tr>\n",
       "<tr><td>OBS:</td><td>59774.561</td><td>i</td><td>-18.161</td><td>257.892</td><td>nan</td><td>-15.418</td><td>None</td><td>Pan-STARRS2</td><td>GPC2</td><td>None</td></tr>\n",
       "<tr><td>OBS:</td><td>59776.545</td><td>r</td><td>-72.021</td><td>194.822</td><td>nan</td><td>-2.937</td><td>None</td><td>Pan-STARRS2</td><td>GPC2</td><td>None</td></tr>\n",
       "<tr><td>OBS:</td><td>59776.548</td><td>z</td><td>79.155</td><td>306.722</td><td>22.754</td><td>3.875</td><td>None</td><td>Pan-STARRS2</td><td>GPC2</td><td>None</td></tr>\n",
       "<tr><td>OBS:</td><td>59784.541</td><td>r</td><td>-33.631</td><td>125.914</td><td>nan</td><td>-4.065</td><td>None</td><td>Pan-STARRS2</td><td>GPC2</td><td>None</td></tr>\n",
       "<tr><td>OBS:</td><td>59788.548</td><td>z</td><td>-247.372</td><td>260.463</td><td>nan</td><td>-1.143</td><td>None</td><td>Pan-STARRS2</td><td>GPC2</td><td>None</td></tr>\n",
       "<tr><td>OBS:</td><td>59795.53</td><td>i</td><td>71.264</td><td>110.659</td><td>22.868</td><td>1.553</td><td>None</td><td>Pan-STARRS2</td><td>GPC2</td><td>None</td></tr>\n",
       "<tr><td>OBS:</td><td>59795.533</td><td>r</td><td>10.289</td><td>123.369</td><td>24.969</td><td>11.99</td><td>None</td><td>Pan-STARRS2</td><td>GPC2</td><td>None</td></tr>\n",
       "<tr><td>OBS:</td><td>59799.479</td><td>i</td><td>-0.926</td><td>89.519</td><td>nan</td><td>-104.995</td><td>None</td><td>Pan-STARRS2</td><td>GPC2</td><td>None</td></tr>\n",
       "<tr><td>OBS:</td><td>59799.482</td><td>r</td><td>-57.875</td><td>168.206</td><td>nan</td><td>-3.156</td><td>None</td><td>Pan-STARRS2</td><td>GPC2</td><td>None</td></tr>\n",
       "</table></div>"
      ],
      "text/plain": [
       "<Table length=407>\n",
       "VARLIST:    MJD     FLT  FLUXCAL  ... MAGSYS  TELESCOPE  INSTRUMENT  DQ \n",
       "  str4    float64  str12 float64  ...  str4     str11       str7    str4\n",
       "-------- --------- ----- -------- ... ------ ----------- ---------- ----\n",
       "    OBS:  59108.39 r-ZTF  926.021 ...   None         P48    ZTF-Cam None\n",
       "    OBS: 59109.322 g-ZTF 1929.716 ...   None         P48    ZTF-Cam None\n",
       "    OBS:  59109.41 r-ZTF 1488.321 ...   None         P48    ZTF-Cam None\n",
       "    OBS: 59110.346 g-ZTF 2337.179 ...   None         P48    ZTF-Cam None\n",
       "    OBS: 59110.359 r-ZTF 1900.948 ...   None         P48    ZTF-Cam None\n",
       "    OBS: 59111.367 g-ZTF 2432.615 ...   None         P48    ZTF-Cam None\n",
       "    OBS: 59113.302 r-ZTF 2344.561 ...   None         P48    ZTF-Cam None\n",
       "    OBS:  59113.34 r-ZTF 2098.701 ...   None         P48    ZTF-Cam None\n",
       "    OBS:  59113.39 g-ZTF 2486.742 ...   None         P48    ZTF-Cam None\n",
       "    OBS: 59114.322 g-ZTF 2443.322 ...   None         P48    ZTF-Cam None\n",
       "     ...       ...   ...      ... ...    ...         ...        ...  ...\n",
       "    OBS: 59774.558     r   52.345 ...   None Pan-STARRS2       GPC2 None\n",
       "    OBS: 59774.561     i  -18.161 ...   None Pan-STARRS2       GPC2 None\n",
       "    OBS: 59776.545     r  -72.021 ...   None Pan-STARRS2       GPC2 None\n",
       "    OBS: 59776.548     z   79.155 ...   None Pan-STARRS2       GPC2 None\n",
       "    OBS: 59784.541     r  -33.631 ...   None Pan-STARRS2       GPC2 None\n",
       "    OBS: 59788.548     z -247.372 ...   None Pan-STARRS2       GPC2 None\n",
       "    OBS:  59795.53     i   71.264 ...   None Pan-STARRS2       GPC2 None\n",
       "    OBS: 59795.533     r   10.289 ...   None Pan-STARRS2       GPC2 None\n",
       "    OBS: 59799.479     i   -0.926 ...   None Pan-STARRS2       GPC2 None\n",
       "    OBS: 59799.482     r  -57.875 ...   None Pan-STARRS2       GPC2 None"
      ]
     },
     "execution_count": 3,
     "metadata": {},
     "output_type": "execute_result"
    }
   ],
   "source": [
    "tly"
   ]
  },
  {
   "cell_type": "code",
   "execution_count": 5,
   "metadata": {},
   "outputs": [
    {
     "data": {
      "text/html": [
       "&lt;Column name=&apos;FLT&apos; dtype=&apos;str12&apos; length=10&gt;\n",
       "<table>\n",
       "<tr><td>cyan-ATLAS</td></tr>\n",
       "<tr><td>g</td></tr>\n",
       "<tr><td>g-ZTF</td></tr>\n",
       "<tr><td>i</td></tr>\n",
       "<tr><td>orange-ATLAS</td></tr>\n",
       "<tr><td>r</td></tr>\n",
       "<tr><td>r-ZTF</td></tr>\n",
       "<tr><td>w</td></tr>\n",
       "<tr><td>y</td></tr>\n",
       "<tr><td>z</td></tr>\n",
       "</table>"
      ],
      "text/plain": [
       "<Column name='FLT' dtype='str12' length=10>\n",
       "  cyan-ATLAS\n",
       "           g\n",
       "       g-ZTF\n",
       "           i\n",
       "orange-ATLAS\n",
       "           r\n",
       "       r-ZTF\n",
       "           w\n",
       "           y\n",
       "           z"
      ]
     },
     "execution_count": 5,
     "metadata": {},
     "output_type": "execute_result"
    }
   ],
   "source": [
    "tly_uni = np.unique(tly['FLT'])\n",
    "tly_uni"
   ]
  }
 ],
 "metadata": {
  "kernelspec": {
   "display_name": "TypeII",
   "language": "python",
   "name": "python3"
  },
  "language_info": {
   "codemirror_mode": {
    "name": "ipython",
    "version": 3
   },
   "file_extension": ".py",
   "mimetype": "text/x-python",
   "name": "python",
   "nbconvert_exporter": "python",
   "pygments_lexer": "ipython3",
   "version": "3.10.9"
  }
 },
 "nbformat": 4,
 "nbformat_minor": 2
}
